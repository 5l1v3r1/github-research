{
 "cells": [
  {
   "cell_type": "markdown",
   "metadata": {},
   "source": [
    "# Ugly To Pretty for CSVS"
   ]
  },
  {
   "cell_type": "markdown",
   "metadata": {},
   "source": [
    "Run on linux. Set an import path and an export path to folders.\n",
    "Will take every file in import directory that is a mathematica generated CSV and turn it into a nicely fomatted CSV in Output directory.\n"
   ]
  },
  {
   "cell_type": "markdown",
   "metadata": {},
   "source": [
    "## Paths"
   ]
  },
  {
   "cell_type": "code",
   "execution_count": 7,
   "metadata": {
    "collapsed": true
   },
   "outputs": [],
   "source": [
    "importpath = \"/home/jwb/repos/github-research/csvs/Companies/Ugly/Stack/\"\n",
    "exportpath = \"/home/jwb/repos/github-research/csvs/Companies/Pretty/Stack/\""
   ]
  },
  {
   "cell_type": "markdown",
   "metadata": {},
   "source": [
    "## Function"
   ]
  },
  {
   "cell_type": "code",
   "execution_count": 8,
   "metadata": {
    "collapsed": false
   },
   "outputs": [],
   "source": [
    "import csv\n",
    "import pandas as pd\n",
    "import os\n",
    "\n",
    "def arrayer(path):\n",
    "    with open(path, \"rt\") as f: \n",
    "        reader = csv.reader(f)\n",
    "        names = set()\n",
    "        times = {}\n",
    "        windows = []\n",
    "        rownum = 0\n",
    "        for row in reader:\n",
    "                newrow = [(i[1:-1],j[:-2]) for i,j in zip(row[1::2], row[2::2])] #Drops the timewindow, and groups the rest of the row into [name, tally]\n",
    "                rowdict = dict(newrow) \n",
    "                names.update([x[0] for x in newrow]) #adds each name to a name set\n",
    "                l=row[0].replace(\"DateObject[{\",\"\").strip(\"{}]}\").replace(\",\",\"\").replace(\"}]\",\"\").split() #Strips DateObject string\n",
    "                timestamp=':'.join(l[:3])+'-'+':'.join(l[3:]) #Formats date string\n",
    "                windows.append(timestamp) #add timestamp to list\n",
    "                times[timestamp] = rowdict #link results as value in timestamp dict\n",
    "                rownum += 1\n",
    "\n",
    "    cols = [[times[k][name] if name in times[k] else ' 0' for name in names ] for k in windows] #put the tally for each name across each timestamp in a nested list of Columns\n",
    "    data = pd.DataFrame(cols,columns=list(names),index=windows) #Put into dataframe with labels\n",
    "    return data.transpose()"
   ]
  },
  {
   "cell_type": "markdown",
   "metadata": {},
   "source": [
    "## Run"
   ]
  },
  {
   "cell_type": "code",
   "execution_count": 9,
   "metadata": {
    "collapsed": false
   },
   "outputs": [],
   "source": [
    "for filename in os.listdir(importpath):\n",
    "    arrayer(importpath+filename).to_csv(exportpath+filename, encoding='utf-8')"
   ]
  },
  {
   "cell_type": "code",
   "execution_count": null,
   "metadata": {
    "collapsed": true
   },
   "outputs": [],
   "source": []
  }
 ],
 "metadata": {
  "anaconda-cloud": {},
  "kernelspec": {
   "display_name": "Python [Root]",
   "language": "python",
   "name": "Python [Root]"
  },
  "language_info": {
   "codemirror_mode": {
    "name": "ipython",
    "version": 3
   },
   "file_extension": ".py",
   "mimetype": "text/x-python",
   "name": "python",
   "nbconvert_exporter": "python",
   "pygments_lexer": "ipython3",
   "version": "3.5.2"
  }
 },
 "nbformat": 4,
 "nbformat_minor": 0
}
