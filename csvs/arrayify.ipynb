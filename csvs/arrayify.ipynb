{
 "cells": [
  {
   "cell_type": "code",
   "execution_count": 2,
   "metadata": {
    "collapsed": false
   },
   "outputs": [],
   "source": [
    "import csv\n",
    "import pandas as pd\n",
    "import os\n",
    "\n",
    "def arrayer(path):\n",
    "    with open(path, \"rt\") as f: \n",
    "        reader = csv.reader(f)\n",
    "        names = set()\n",
    "        times = {}\n",
    "        windows = []\n",
    "        rownum = 0\n",
    "        for row in reader:\n",
    "                newrow = [(i[1:-1],j[:-2]) for i,j in zip(row[1::2], row[2::2])]\n",
    "                rowdict = dict(newrow)\n",
    "                names.update([x[0] for x in newrow])\n",
    "                l=row[0].replace(\"DateObject[{\",\"\").strip(\"{}]}\").replace(\",\",\"\").replace(\"}]\",\"\").split()\n",
    "                timestamp=':'.join(l[:3])+'-'+':'.join(l[3:])\n",
    "                windows.append(timestamp)\n",
    "                times[timestamp] = rowdict\n",
    "                rownum += 1\n",
    "\n",
    "    cols = [[times[k][name] if name in times[k] else ' 0' for name in names ] for k in windows]\n",
    "    data = pd.DataFrame(cols,columns=list(names),index=windows)\n",
    "    return data.transpose()"
   ]
  },
  {
   "cell_type": "code",
   "execution_count": 4,
   "metadata": {
    "collapsed": false
   },
   "outputs": [],
   "source": [
    "importpath = \"/home/jwb/repos/github-research/csvs/Individuals/Ugly/Stack/\"\n",
    "exportpath= \"/home/jwb/repos/github-research/csvs/Individuals/Pretty/Stack/\"\n",
    "\n",
    "for filename in os.listdir(importpath):\n",
    "    arrayer(importpath+filename).to_csv(exportpath+filename, encoding='utf-8')\n",
    "    \n",
    "\n",
    "\n"
   ]
  },
  {
   "cell_type": "code",
   "execution_count": 3,
   "metadata": {
    "collapsed": false
   },
   "outputs": [
    {
     "data": {
      "text/plain": [
       "['deeplearning4j-deeplearning4j-commits.csv',\n",
       " 'keystone-openstack-commits.csv',\n",
       " 'tensorflow-tensorflow-commits.csv',\n",
       " 'Theano-Theano-commits.csv',\n",
       " 'horizon-openstack-commits.csv',\n",
       " 'caffe-BVLC-commits.csv',\n",
       " 'torch7-torch-commits.csv',\n",
       " 'swift-openstack-commits.csv',\n",
       " 'cloudstack-apache-commits.csv',\n",
       " 'glance-openstack-commits.csv',\n",
       " 'CNTK-Microsoft-commits.csv',\n",
       " 'neutron-openstack-commits.csv',\n",
       " 'nova-openstack-commits.csv',\n",
       " 'cinder-openstack-commits.csv']"
      ]
     },
     "execution_count": 3,
     "metadata": {},
     "output_type": "execute_result"
    }
   ],
   "source": [
    "os.listdir(\"/home/jwb/repos/github-research/csvs/Companies/Ugly/\")"
   ]
  }
 ],
 "metadata": {
  "anaconda-cloud": {},
  "kernelspec": {
   "display_name": "Python [Root]",
   "language": "python",
   "name": "Python [Root]"
  },
  "language_info": {
   "codemirror_mode": {
    "name": "ipython",
    "version": 3
   },
   "file_extension": ".py",
   "mimetype": "text/x-python",
   "name": "python",
   "nbconvert_exporter": "python",
   "pygments_lexer": "ipython3",
   "version": "3.5.2"
  }
 },
 "nbformat": 4,
 "nbformat_minor": 0
}
