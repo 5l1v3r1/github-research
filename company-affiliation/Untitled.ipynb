{
 "cells": [
  {
   "cell_type": "code",
   "execution_count": 2,
   "metadata": {
    "collapsed": true
   },
   "outputs": [],
   "source": [
    "import json\n",
    "def findHistory(name):\n",
    "\tpersonalHistory = []\n",
    "\treadablename = name.split(\" \")\n",
    "\t# print readablename\n",
    "\ttry:\n",
    "\t\tname_key = \"\"\n",
    "\t\tif len(readablename) == 3:\n",
    "\t\t\tname_key += '{}{}{}'.format(readablename[0], readablename[1], readablename[2])\n",
    "\t\telif len(readablename) == 2:\n",
    "\t\t\tname_key += '{}{}'.format(readablename[0], readablename[1])\n",
    "\t\telif len(readablename) == 1:\n",
    "\t\t\tname_key += '{}'.format(readablename[0])\n",
    "\t\telif len(readablename) == 4:\n",
    "\t\t\tname_key += '{}{}{}{}'.format(readablename[0], readablename[1], readablename[2], readablename[3])\n",
    "\t\twith open('companyaffiliation.json', 'r') as data_file:\n",
    "\t\t\tdata = json.load(data_file)\n",
    "\t\t\t# print data_file\n",
    "\t\t\ttry:\n",
    "\t\t\t\t# print data[name_key]\n",
    "\t\t\t\tprint data\n",
    "\t\t\t\tprint name_key\n",
    "\t\t\t\treturn data[name_key]\n",
    "\t\t\texcept KeyError, Argument:\n",
    "\t\t\t\tpending.append(name)\n",
    "\texcept IOError, Argument:\n",
    "\t\tprint \"companyaffiliation.json doesn't exist yet\", Argument\n",
    "\texcept UnicodeEncodeError, Argument:\n",
    "\t\tpending.append(name)\n",
    "\t\tprint \"we can't decode {}\".format(name), Argument"
   ]
  },
  {
   "cell_type": "code",
   "execution_count": 3,
   "metadata": {
    "collapsed": false
   },
   "outputs": [
    {
     "ename": "NameError",
     "evalue": "global name 'json' is not defined",
     "output_type": "error",
     "traceback": [
      "\u001b[1;31m---------------------------------------------------------------------------\u001b[0m",
      "\u001b[1;31mNameError\u001b[0m                                 Traceback (most recent call last)",
      "\u001b[1;32m<ipython-input-3-9b6537b23ef4>\u001b[0m in \u001b[0;36m<module>\u001b[1;34m()\u001b[0m\n\u001b[1;32m----> 1\u001b[1;33m \u001b[1;32mprint\u001b[0m \u001b[0mfindHistory\u001b[0m\u001b[1;33m(\u001b[0m\u001b[1;34m\"Frédéric Bastien\"\u001b[0m\u001b[1;33m)\u001b[0m\u001b[1;33m\u001b[0m\u001b[0m\n\u001b[0m",
      "\u001b[1;32m<ipython-input-2-4ee885464c65>\u001b[0m in \u001b[0;36mfindHistory\u001b[1;34m(name)\u001b[0m\n\u001b[0;32m     14\u001b[0m                         \u001b[0mname_key\u001b[0m \u001b[1;33m+=\u001b[0m \u001b[1;34m'{}{}{}{}'\u001b[0m\u001b[1;33m.\u001b[0m\u001b[0mformat\u001b[0m\u001b[1;33m(\u001b[0m\u001b[0mreadablename\u001b[0m\u001b[1;33m[\u001b[0m\u001b[1;36m0\u001b[0m\u001b[1;33m]\u001b[0m\u001b[1;33m,\u001b[0m \u001b[0mreadablename\u001b[0m\u001b[1;33m[\u001b[0m\u001b[1;36m1\u001b[0m\u001b[1;33m]\u001b[0m\u001b[1;33m,\u001b[0m \u001b[0mreadablename\u001b[0m\u001b[1;33m[\u001b[0m\u001b[1;36m2\u001b[0m\u001b[1;33m]\u001b[0m\u001b[1;33m,\u001b[0m \u001b[0mreadablename\u001b[0m\u001b[1;33m[\u001b[0m\u001b[1;36m3\u001b[0m\u001b[1;33m]\u001b[0m\u001b[1;33m)\u001b[0m\u001b[1;33m\u001b[0m\u001b[0m\n\u001b[0;32m     15\u001b[0m                 \u001b[1;32mwith\u001b[0m \u001b[0mopen\u001b[0m\u001b[1;33m(\u001b[0m\u001b[1;34m'companyaffiliation.json'\u001b[0m\u001b[1;33m,\u001b[0m \u001b[1;34m'r'\u001b[0m\u001b[1;33m)\u001b[0m \u001b[1;32mas\u001b[0m \u001b[0mdata_file\u001b[0m\u001b[1;33m:\u001b[0m\u001b[1;33m\u001b[0m\u001b[0m\n\u001b[1;32m---> 16\u001b[1;33m                         \u001b[0mdata\u001b[0m \u001b[1;33m=\u001b[0m \u001b[0mjson\u001b[0m\u001b[1;33m.\u001b[0m\u001b[0mload\u001b[0m\u001b[1;33m(\u001b[0m\u001b[0mdata_file\u001b[0m\u001b[1;33m)\u001b[0m\u001b[1;33m\u001b[0m\u001b[0m\n\u001b[0m\u001b[0;32m     17\u001b[0m                         \u001b[1;31m# print data_file\u001b[0m\u001b[1;33m\u001b[0m\u001b[1;33m\u001b[0m\u001b[0m\n\u001b[0;32m     18\u001b[0m                         \u001b[1;32mtry\u001b[0m\u001b[1;33m:\u001b[0m\u001b[1;33m\u001b[0m\u001b[0m\n",
      "\u001b[1;31mNameError\u001b[0m: global name 'json' is not defined"
     ]
    }
   ],
   "source": [
    "print findHistory(\"Frédéric Bastien\")"
   ]
  }
 ],
 "metadata": {
  "kernelspec": {
   "display_name": "Python 2",
   "language": "python",
   "name": "python2"
  },
  "language_info": {
   "codemirror_mode": {
    "name": "ipython",
    "version": 2
   },
   "file_extension": ".py",
   "mimetype": "text/x-python",
   "name": "python",
   "nbconvert_exporter": "python",
   "pygments_lexer": "ipython2",
   "version": "2.7.6"
  }
 },
 "nbformat": 4,
 "nbformat_minor": 0
}
